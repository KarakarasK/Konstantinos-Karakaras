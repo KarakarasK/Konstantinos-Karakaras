{
 "cells": [
  {
   "cell_type": "markdown",
   "metadata": {},
   "source": [
    "## **ΥΠΟΛΟΓΙΣΤΙΚΗ ΕΡΓΑΣΙΑ IV: Χρονική εξέλιξη μιας κατάστασης σπιν $|s\\rangle$ εντός σταθερού μαγνητικού πεδίου**\n",
    "\n",
    "Θεωρήστε ένα κβαντικό σωματίδιο με αρχική κατάσταση σπιν $|s \\rangle =\\frac{1}{\\sqrt{2}}\\begin{bmatrix} 1 \\\\ 1\\end{bmatrix}$ τη χρονική στιγμή $t=0$. Στο σωματίδιο εφαρμόζεται εξωτερικό σταθερό μαγνητικό πεδίο, παράλληλο προς τον άξονα z: $\\vec{B}//\\vec{e_z}$. Χρησιμοποιώντας τις δυνατότητες γραμμικής άλγεβρας της `SymPy`, ολοκληρώστε τις ακόλουθες ερωτήσεις.\n",
    "\n",
    "**Παρατηρήσεις/Υποδείξεις:**\n",
    "\n",
    "1. Ο γενικός τύπος του τελεστή χρονικής εξέλιξης για μια κατάσταση σπιν, όταν ένα εξωτερικό μαγνητικό πεδίο $\\vec{B}$ εφαρμόζεται είναι: $$\\hat{U}(t) = e^{-iωt(\\vec{σ}\\cdot \\vec{B})}=cos(ωt)I_{2x2}-i (\\vec{σ}\\cdot \\vec{n})sin(ωt)$$ όπου $I_{2x2}$ είναι ο $2x2$ ταυτοτικός πίνακας, $\\vec{n}=\\frac{\\vec{B}}{|\\vec{B}|}$ και $\\vec{σ}=σ_1 \\vec{e_x} + σ_2 \\vec{e_y} + σ_3 \\vec{e_z}$ (με $σ_i$, $i=1,2,3$ τους πίνακες *Pauli*).\n",
    "\n",
    "2. Η μέση τιμή $\\langle \\hat{A} \\rangle_ψ$ ενός ερμιτιανού τελεστή $\\hat{A}$, ως προς μια κβαντική κατάσταση $|ψ\\rangle$ είναι ίση με: $$\\langle\\hat{A} \\rangle_ψ = \\langle ψ|\\hat{A}|ψ\\rangle$$\n",
    "\n",
    "3. Το διάνυσμα-τελεστής σπιν συνδέεται με το διάνυσμα-τελεστή των πινάκων Pauli μέσω της σχέσης:\n",
    "$$\\vec{s}=\\frac{\\hbar}{2}\\vec{σ}$$"
   ]
  },
  {
   "cell_type": "markdown",
   "metadata": {},
   "source": [
    "**Προετοιμασία**"
   ]
  },
  {
   "cell_type": "code",
   "execution_count": 1,
   "metadata": {},
   "outputs": [],
   "source": [
    "# Φορτώνουμε τη βιβλιοθήκη SymPy\n",
    "import sympy as smp"
   ]
  },
  {
   "cell_type": "code",
   "execution_count": 2,
   "metadata": {},
   "outputs": [
    {
     "data": {
      "text/latex": [
       "$\\displaystyle \\left[\\begin{matrix}0 & 1\\\\1 & 0\\end{matrix}\\right]$"
      ],
      "text/plain": [
       "Matrix([\n",
       "[0, 1],\n",
       "[1, 0]])"
      ]
     },
     "metadata": {},
     "output_type": "display_data"
    },
    {
     "data": {
      "text/latex": [
       "$\\displaystyle \\left[\\begin{matrix}0 & i\\\\- i & 0\\end{matrix}\\right]$"
      ],
      "text/plain": [
       "Matrix([\n",
       "[ 0, I],\n",
       "[-I, 0]])"
      ]
     },
     "metadata": {},
     "output_type": "display_data"
    },
    {
     "data": {
      "text/latex": [
       "$\\displaystyle \\left[\\begin{matrix}1 & 0\\\\0 & -1\\end{matrix}\\right]$"
      ],
      "text/plain": [
       "Matrix([\n",
       "[1,  0],\n",
       "[0, -1]])"
      ]
     },
     "metadata": {},
     "output_type": "display_data"
    },
    {
     "data": {
      "text/latex": [
       "$\\displaystyle \\left[\\begin{matrix}1 & 0\\\\0 & 1\\end{matrix}\\right]$"
      ],
      "text/plain": [
       "Matrix([\n",
       "[1, 0],\n",
       "[0, 1]])"
      ]
     },
     "metadata": {},
     "output_type": "display_data"
    },
    {
     "data": {
      "text/latex": [
       "$\\displaystyle \\left[\\begin{matrix}0.5 \\sqrt{2}\\\\0.5 \\sqrt{2}\\end{matrix}\\right]$"
      ],
      "text/plain": [
       "Matrix([\n",
       "[0.5*sqrt(2)],\n",
       "[0.5*sqrt(2)]])"
      ]
     },
     "metadata": {},
     "output_type": "display_data"
    }
   ],
   "source": [
    "# Ορισμός χρήσιμων συμβόλων\n",
    "t,omega,hbar = smp.symbols(\"t ω hbar\",positive=True)\n",
    "i = smp.I\n",
    "\n",
    "# Ορίστε τους πίνακς Pauli και εκτυπώστε τους\n",
    "sigma_1 = smp.Matrix([[0,1],[1,0]]) # στη θέση του 1 να αντικαταστήσετε την σωστή μορφή του πίνακα σ_1 = σ_x\n",
    "sigma_2 = smp.Matrix([[0,1*smp.I],[-1*smp.I,0]]) # στη θέση του 2 να αντικαταστήσετε την σωστή μορφή του πίνακα σ_2 = σ_y\n",
    "sigma_3 = smp.Matrix([[1,0],[0,-1]]) # στη θέση του 3 να αντικαταστήσετε την σωστή μορφή του πίνακα σ_3 = σ_z\n",
    "\n",
    "display(sigma_1)\n",
    "display(sigma_2)\n",
    "display(sigma_3)\n",
    "\n",
    "# Ορίστε τον ταυτοτικό πίνακα 2x2 και εκτυπώστε τον\n",
    "iden_2x2 = smp.Matrix([[1,0],[0,1]]) # αντί για το 4 γράψτε την σωστή μορφή\n",
    "\n",
    "display(iden_2x2)\n",
    "\n",
    "# Ορίστε την αρχική κατάσταση-spin σε μορφή πίνακα και εκτυπώστε την\n",
    "spin_init = smp.Matrix([[1./smp.sqrt(2)],[1./smp.sqrt(2)]]) # αντί για το 5 γράψτε την σωστή μορφή\n",
    "\n",
    "display(spin_init)"
   ]
  },
  {
   "cell_type": "markdown",
   "metadata": {},
   "source": [
    "**Ερώτηση 1** \n",
    "\n",
    "Δείξτε ότι ο τελεστής της χρονικής εξέλιξης $\\hat{U}(t)$ (της spin-κατάστασης του σωματιδίου) έχει την ακόλουθη μορφή μήτρας: \n",
    "$$\\begin{bmatrix} e^{-iωt} & 0 \\\\ 0 & e^{iωt}\\end{bmatrix} ή \\begin{bmatrix} cos(ωt)-isin(ωt) & 0 \\\\ 0 & cos(ωt)+isin(ωt)\\end{bmatrix}$$\n",
    "Εξηγήστε στο παρακάτω **Markdown** κελί το σκεπτικό σας για να καταλήξετε στο συγκεκριμένο αποτέλεσμα."
   ]
  },
  {
   "cell_type": "markdown",
   "metadata": {},
   "source": [
    "**Εξήγηση**\n"
   ]
  },
  {
   "cell_type": "markdown",
   "metadata": {},
   "source": [
    "Ισχύει $$\\hat{U}(t) = e^{-iHt/\\hbar} = e^{-i\\gamma \\vec{S}\\cdot \\vec{B}/\\hbar} = e^{-i\\omega(\\vec{\\sigma}\\hat{B})t}$$, όπου $\\gamma|\\vec{B}|=\\omega$.\n",
    "Γενικά, παίρνουμε $\\vec{B} \\uparrow\\uparrow \\hat{e_z}$, οπότε \n",
    "$$\\hat{U}(t)=cos(ωt)I_{2x2}-i (\\vec{σ}\\cdot \\vec{n})sin(ωt) = \\begin{bmatrix} cos(\\omega t) & 0 \\\\ 0 & cos(\\omega t) \\end{bmatrix} - i\\begin{bmatrix} sin(\\omega t) & 0 \\\\ 0 & -sin(\\omega t)\\end{bmatrix} = \\begin{bmatrix} cos(ωt)-isin(ωt) & 0 \\\\ 0 & cos(ωt)+isin(ωt)\\end{bmatrix}$$"
   ]
  },
  {
   "cell_type": "code",
   "execution_count": 3,
   "metadata": {},
   "outputs": [
    {
     "data": {
      "text/latex": [
       "$\\displaystyle \\left[\\begin{matrix}e^{- i t ω} & 0\\\\0 & e^{i t ω}\\end{matrix}\\right]$"
      ],
      "text/plain": [
       "Matrix([\n",
       "[exp(-I*t*ω),          0],\n",
       "[          0, exp(I*t*ω)]])"
      ]
     },
     "metadata": {},
     "output_type": "display_data"
    }
   ],
   "source": [
    "# Ορισμός και εκτύπωση του τελεστή χρονικής εξέλιξης\n",
    "def U(t,ω):\n",
    "    return smp.simplify(smp.Matrix([[smp.cos(ω*t)-smp.I*smp.sin(ω*t),0],[0,smp.cos(ω*t)+smp.I*smp.sin(ω*t)]]))\n",
    "\n",
    "# εντός της εντολής simplify γράψτε τον σωστό τύπο του τελεστή χρονικής εξέλιξης\n",
    "# δοκιμάστε επίσης να επιστρέψετε την μορφή του τελεστή και χωρίς την εντολή simplify\n",
    "\n",
    "display(U(t,omega))"
   ]
  },
  {
   "cell_type": "markdown",
   "metadata": {},
   "source": [
    "**Ερώτηση 2** \n",
    "\n",
    "**α)** Ορίστε μια συνάρτηση που επιστρέφει τη χρονική εξέλιξη της κατάστασης σπιν του σωματιδίου $|s(t)\\rangle$ σε μορφή μήτρας και εμφανίστε τη συμβολική μορφή της $|s(t)\\rangle$.\n",
    "\n",
    "**Βοήθεια**\n",
    "\n",
    "Για να λάβουμε την χρονική εξέλιξη $|s(t)\\rangle$ της spin-κατάστασης ενός σωματιδίου, αρκεί να εφαρμόσουμε τον τελεστή $\\hat{U}(t)$, πολλαπλασιάζοντας την αρχική spin-κατάσταση $|s\\rangle$ από τα αριστερά. Δηλαδή:\n",
    "\n",
    "$$|s(t)\\rangle=\\hat{U}(t)|s\\rangle$$"
   ]
  },
  {
   "cell_type": "code",
   "execution_count": 4,
   "metadata": {},
   "outputs": [
    {
     "data": {
      "text/latex": [
       "$\\displaystyle \\left[\\begin{matrix}0.5 \\sqrt{2} e^{- i t ω}\\\\0.5 \\sqrt{2} e^{i t ω}\\end{matrix}\\right]$"
      ],
      "text/plain": [
       "Matrix([\n",
       "[0.5*sqrt(2)*exp(-I*t*ω)],\n",
       "[ 0.5*sqrt(2)*exp(I*t*ω)]])"
      ]
     },
     "metadata": {},
     "output_type": "display_data"
    }
   ],
   "source": [
    "# Ορισμός και εκτύπωση της χρονικής εξέλιξης της spin-κατάστασης\n",
    "# του σωματιδίου\n",
    "\n",
    "def spin_t(t,ω):\n",
    "    return smp.simplify(U(t,ω)*spin_init)\n",
    "\n",
    "# εντός της εντολής simplify γράψτε τον σωστό τύπο\n",
    "# της χρονικής εξέλιξης της spin-κατάστασης\n",
    "\n",
    "display(spin_t(t,omega))"
   ]
  },
  {
   "cell_type": "markdown",
   "metadata": {},
   "source": [
    "**β)** Βρείτε την μορφή της $|s(t)\\rangle$ τη χρονική στιγμή $t=2s$, όταν $ω=\\frac{π}{3}Hz$."
   ]
  },
  {
   "cell_type": "code",
   "execution_count": 18,
   "metadata": {},
   "outputs": [
    {
     "data": {
      "text/latex": [
       "$\\displaystyle \\left[\\begin{matrix}-0.354 - 0.612 i\\\\-0.354 + 0.612 i\\end{matrix}\\right]$"
      ],
      "text/plain": [
       "Matrix([\n",
       "[-0.354 - 0.612*I],\n",
       "[-0.354 + 0.612*I]])"
      ]
     },
     "metadata": {},
     "output_type": "display_data"
    }
   ],
   "source": [
    "display(spin_t(2,smp.pi/3).evalf(n=3))"
   ]
  },
  {
   "cell_type": "markdown",
   "metadata": {},
   "source": [
    "**Ερώτηση 3** \n",
    "\n",
    "**α)** Βρείτε τη συμβολική μορφή των ακόλουθων μέσων τιμών: $\\langle \\hat{s}_x \\rangle_t$, $\\langle \\hat{s}_y \\rangle_t$ και $\\langle \\hat{s}_z \\rangle_t$, ως προς την κατάσταση σπιν $|s(t)\\rangle$. "
   ]
  },
  {
   "cell_type": "code",
   "execution_count": 6,
   "metadata": {},
   "outputs": [
    {
     "data": {
      "text/latex": [
       "$\\displaystyle \\left[\\begin{matrix}0 & \\frac{\\hbar}{2}\\\\\\frac{\\hbar}{2} & 0\\end{matrix}\\right]$"
      ],
      "text/plain": [
       "Matrix([\n",
       "[     0, hbar/2],\n",
       "[hbar/2,      0]])"
      ]
     },
     "metadata": {},
     "output_type": "display_data"
    },
    {
     "data": {
      "text/latex": [
       "$\\displaystyle \\left[\\begin{matrix}0 & \\frac{i \\hbar}{2}\\\\- \\frac{i \\hbar}{2} & 0\\end{matrix}\\right]$"
      ],
      "text/plain": [
       "Matrix([\n",
       "[        0, I*hbar/2],\n",
       "[-I*hbar/2,        0]])"
      ]
     },
     "metadata": {},
     "output_type": "display_data"
    },
    {
     "data": {
      "text/latex": [
       "$\\displaystyle \\left[\\begin{matrix}\\frac{\\hbar}{2} & 0\\\\0 & - \\frac{\\hbar}{2}\\end{matrix}\\right]$"
      ],
      "text/plain": [
       "Matrix([\n",
       "[hbar/2,       0],\n",
       "[     0, -hbar/2]])"
      ]
     },
     "metadata": {},
     "output_type": "display_data"
    }
   ],
   "source": [
    "# Ορισμός και εκτύπωση των spin-πινάκων s_x,s_y και s_z\n",
    "s_x = hbar/2 * sigma_1\n",
    "s_y = hbar/2 * sigma_2\n",
    "s_z = hbar/2 * sigma_3\n",
    "\n",
    "# γράψτε παραπάνω τον σωστό τύπο των πινάκων s_x,s_y και s_z\n",
    "\n",
    "display(s_x)\n",
    "display(s_y)\n",
    "display(s_z)"
   ]
  },
  {
   "cell_type": "code",
   "execution_count": 7,
   "metadata": {},
   "outputs": [
    {
     "data": {
      "text/latex": [
       "$\\displaystyle \\left[\\begin{matrix}0.5 \\hbar \\cos{\\left(2 t ω \\right)}\\end{matrix}\\right]$"
      ],
      "text/plain": [
       "Matrix([[0.5*hbar*cos(2*t*ω)]])"
      ]
     },
     "metadata": {},
     "output_type": "display_data"
    },
    {
     "data": {
      "text/latex": [
       "$\\displaystyle \\left[\\begin{matrix}- 0.5 \\hbar \\sin{\\left(2 t ω \\right)}\\end{matrix}\\right]$"
      ],
      "text/plain": [
       "Matrix([[-0.5*hbar*sin(2*t*ω)]])"
      ]
     },
     "metadata": {},
     "output_type": "display_data"
    },
    {
     "data": {
      "text/latex": [
       "$\\displaystyle \\left[\\begin{matrix}0\\end{matrix}\\right]$"
      ],
      "text/plain": [
       "Matrix([[0]])"
      ]
     },
     "metadata": {},
     "output_type": "display_data"
    }
   ],
   "source": [
    "# Εύρεση και εκτύπωση των ζητούμενων μέσων τιμών\n",
    "spin_t_dagger = smp.conjugate(smp.transpose(spin_t(t,omega)))\n",
    "\n",
    "mean_s_x = smp.simplify(spin_t_dagger*s_x*spin_t(t,omega)) # <s_x>(t)\n",
    "mean_s_y = smp.simplify(spin_t_dagger*s_y*spin_t(t,omega)) # <s_y>(t)\n",
    "mean_s_z = smp.simplify(spin_t_dagger*s_z*spin_t(t,omega)) # <s_z>(t)\n",
    "\n",
    "# εντός των εντολών simplify γράψτε τους σωστούς τύπους\n",
    "# για τις ζητούμενες μέσες τιμές\n",
    "\n",
    "display(mean_s_x)\n",
    "display(mean_s_y)\n",
    "display(mean_s_z)"
   ]
  },
  {
   "cell_type": "markdown",
   "metadata": {},
   "source": [
    "**β)** Ορίστε τις μέσες τιμές $\\langle \\hat{s}_x \\rangle_t$ και $\\langle \\hat{s}_y \\rangle_t$ ως αριθμητικές συναρτήσεις των $t$ και $ω$, χρησιμοποιώντας την εντολή `lambdify()`. Θεωρείστε ότι $\\hbar=1$, $ω=\\frac{π}{4}Hz$ και δημιουργήστε ένα `NumPy` linspace 100 σημείων του $t$, στο διάστημα $[0,4]s$. Φτιάξτε μια γραφική παράσταση χρησιμοποιώντας τις τιμές της αριθμητικής συνάρτησης $\\langle \\hat{s}_x \\rangle_t$ στα σημεία του linspace ως συντεταγμένες στον οριζόντιο άξονα και τις τιμές της αριθμητικής συνάρτησης $\\langle \\hat{s}_y \\rangle_t$ στα σημεία του linspace ως συντεταγμένες στον κατακόρυφο άξονα. Σχολιάστε το αποτέλεσμα."
   ]
  },
  {
   "cell_type": "code",
   "execution_count": 14,
   "metadata": {},
   "outputs": [
    {
     "data": {
      "image/png": "[encoded data removed]",
      "text/plain": [
       "<Figure size 640x480 with 1 Axes>"
      ]
     },
     "metadata": {},
     "output_type": "display_data"
    }
   ],
   "source": [
    "# αντί για 14 ή/και 15 να αντικαταστήσετε την σωστή παράσταση που θα\n",
    "# μεταγλωττιστεί σε αριθμητική συνάρτηση\n",
    "mean_s_x_num = smp.lambdify([t,omega],spin_t_dagger*s_x.subs(hbar,1)*spin_t(t,omega),\"numpy\")\n",
    "mean_s_y_num = smp.lambdify([t,omega],spin_t_dagger*s_y.subs(hbar,1)*spin_t(t,omega),\"numpy\")\n",
    "\n",
    "from numpy import * # να εισάγετε μόνο την εντολή linspace και το pi από την NumPy\n",
    "t_space = linspace(0,4,100) # φτιάξτε το ζητούμενο linspace\n",
    "\n",
    "# εισαγωγή της βιβλιοθήκης matplotlib για γραφικές παραστάσεις\n",
    "import matplotlib.pyplot as plt \n",
    "\n",
    "omega_val = pi/4 # αντικαταστήστε το 16 με τη δοσμένη τιμή για το ω\n",
    "# Mphke to [0,0] giati to apotelesma twn lambda functions htan arrays [1,1,100]\n",
    "plt.plot(mean_s_x_num(t_space,omega_val)[0,0],mean_s_y_num(t_space,omega_val)[0,0])\n",
    "plt.axis(\"equal\") # δοκιμάστε να μετατρέψετε σε σχόλιο τη συγκεκριμένη εντολή και ξανατρέξτε το κελί, τι παρατηρείτε;\n",
    "plt.xlabel(r\"$\\langle \\hat{s}_x \\rangle_t$\")\n",
    "plt.ylabel(r\"$\\langle \\hat{s}_y \\rangle_t$\")\n",
    "plt.show()"
   ]
  },
  {
   "cell_type": "markdown",
   "metadata": {},
   "source": [
    "**Σχολιασμός αποτελέσματος**"
   ]
  },
  {
   "cell_type": "markdown",
   "metadata": {},
   "source": [
    "Το αποτέλεσμα είναι ενδιαφέρον αλλά και αναμενόμενο - οι $<\\hat{s_x}> \\text{ και } <\\hat{s_y}>$ φαίνεται ήδη από την μορφή τους παραπάνω ότι είναι ορθογώνιες  ($cos(\\omega t)$ και $sin(\\omega t)$ αντίστοιχα) και σχηματίζουν κύκλο ακτινάς $0.5\\hbar(=0.5,\\hbar=1)$ . H κατάσταση του spin ταλαντώνεται στο πεδίο x-y (μετάπτωση), μεταξύ των τιμών $0-0.5\\hbar$, ενώ, όπως είδαμε, η z συνιστώσα παραμένει σταθερή."
   ]
  }
 ],
 "metadata": {
  "kernelspec": {
   "display_name": "Python 3 (ipykernel)",
   "language": "python",
   "name": "python3"
  },
  "language_info": {
   "codemirror_mode": {
    "name": "ipython",
    "version": 3
   },
   "file_extension": ".py",
   "mimetype": "text/x-python",
   "name": "python",
   "nbconvert_exporter": "python",
   "pygments_lexer": "ipython3",
   "version": "3.11.4"
  }
 },
 "nbformat": 4,
 "nbformat_minor": 4
}
